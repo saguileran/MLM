{
 "cells": [
  {
   "cell_type": "code",
   "execution_count": 2,
   "id": "0f4efd8f",
   "metadata": {},
   "outputs": [
    {
     "ename": "LoadError",
     "evalue": "UndefVarError: make_subplots not defined",
     "output_type": "error",
     "traceback": [
      "UndefVarError: make_subplots not defined",
      "",
      "Stacktrace:",
      " [1] top-level scope",
      "   @ In[2]:3",
      " [2] eval",
      "   @ .\\boot.jl:373 [inlined]",
      " [3] include_string(mapexpr::typeof(REPL.softscope), mod::Module, code::String, filename::String)",
      "   @ Base .\\loading.jl:1196"
     ]
    }
   ],
   "source": [
    "using PlotlyJS\n",
    "\n",
    "p = make_subplots(rows=3, cols=1, shared_xaxes=true, vertical_spacing=0.02)\n",
    "add_trace!(p, scatter(x=0:2, y=10:12), row=3, col=1)\n",
    "add_trace!(p, scatter(x=2:4, y=100:10:120), row=2, col=1)\n",
    "add_trace!(p, scatter(x=3:5, y=1000:100:1200), row=1, col=1)\n",
    "relayout!(p, title_text=\"Stacked Subplots with Shared X-Axes\")\n",
    "p"
   ]
  },
  {
   "cell_type": "code",
   "execution_count": null,
   "id": "07a6d061",
   "metadata": {},
   "outputs": [],
   "source": []
  }
 ],
 "metadata": {
  "@webio": {
   "lastCommId": "c610c1c5f4374b648bf8af06111e716d",
   "lastKernelId": "4e340fcc-665b-4100-a2d5-8ff74071b793"
  },
  "kernelspec": {
   "display_name": "Julia 1.7.2",
   "language": "julia",
   "name": "julia-1.7"
  },
  "language_info": {
   "file_extension": ".jl",
   "mimetype": "application/julia",
   "name": "julia",
   "version": "1.7.2"
  }
 },
 "nbformat": 4,
 "nbformat_minor": 5
}
