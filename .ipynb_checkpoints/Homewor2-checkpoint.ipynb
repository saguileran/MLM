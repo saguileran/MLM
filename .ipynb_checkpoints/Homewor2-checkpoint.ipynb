{
 "cells": [
  {
   "cell_type": "markdown",
   "id": "1370f200-4985-4c08-bb9c-e26f3ecc58f3",
   "metadata": {
    "tags": []
   },
   "source": [
    "# Simple binary classification\n",
    "\n",
    "The Sonar Dataset involves the prediction of whether or not an object is a mine or a rock given the strength of sonar returns at different angles. It is a binary (2-class) classification problem. The number of observations for each class is not balanced. There are 208 observations with 60 input variables and 1 output variable. The variable names are as follows:\n",
    "\n",
    "Sonar returns at different angles\n",
    "...\n",
    "Class (M for mine and R for rock)\n",
    "\n",
    "The baseline performance of predicting the most prevalent class is a classification accuracy of approximately 53%. Top results achieve a classification accuracy of approximately 88%.\n",
    "\n",
    "1. Split the data into training and test (consider class imbalance).\n",
    "2. Choose a performance function suitable for the problem.\n",
    "3. Adjust the following algorithms to the data using the default parameters: Linear Regression, Logistic Regression, SVM, KNN, Decision trees.\n",
    "4. Select the algorithm with the highest performance measure.\n",
    "5. Report the performance on the test data.\n",
    "\n",
    "Database\n",
    "\n",
    "[https://raw.githubusercontent.com/jbrownlee/Datasets/master/pima-indians-diabetes.csv](https://raw.githubusercontent.com/jbrownlee/Datasets/master/pima-indians-diabetes.csv)\n",
    "\n",
    "More information\n",
    "\n",
    "[https://archive.ics.uci.edu/ml/datasets/Connectionist+Bench+(Sonar,+Mines+vs.+Rocks)](https://archive.ics.uci.edu/ml/datasets/Connectionist+Bench+(Sonar,+Mines+vs.+Rocks))\n",
    "\n",
    "## References\n",
    "- [top-julia-machine-learning-libraries](https://www.analyticsvidhya.com/blog/2021/05/top-julia-machine-learning-libraries/)\n",
    "- [Julia language in machine learning: Algorithms, applications, and open\n",
    "issues](https://www.sciencedirect.com/science/article/pii/S157401372030071X)"
   ]
  },
  {
   "cell_type": "markdown",
   "id": "304efac3-e406-46a5-accb-865d5dccd5c0",
   "metadata": {},
   "source": [
    "## Solution"
   ]
  },
  {
   "cell_type": "code",
   "execution_count": null,
   "id": "12b152a6-31b5-4f31-bdf5-e5a8a672100b",
   "metadata": {},
   "outputs": [],
   "source": [
    "using CSV, DataFrames, PlotlyJS, Random, MLDataUtils, Printf, MLJ, ScikitLearn"
   ]
  },
  {
   "cell_type": "code",
   "execution_count": 14,
   "id": "7b4c797d-97b8-4e97-872f-c037c7eee291",
   "metadata": {},
   "outputs": [
    {
     "data": {
      "text/html": [
       "<div class=\"data-frame\"><p>208 rows × 61 columns (omitted printing of 52 columns)</p><table class=\"data-frame\"><thead><tr><th></th><th>Type</th><th>a1</th><th>a2</th><th>a3</th><th>a4</th><th>a5</th><th>a6</th><th>a7</th><th>a8</th></tr><tr><th></th><th title=\"String1\">String1</th><th title=\"Float64\">Float64</th><th title=\"Float64\">Float64</th><th title=\"Float64\">Float64</th><th title=\"Float64\">Float64</th><th title=\"Float64\">Float64</th><th title=\"Float64\">Float64</th><th title=\"Float64\">Float64</th><th title=\"Float64\">Float64</th></tr></thead><tbody><tr><th>1</th><td>R</td><td>0.02</td><td>0.0371</td><td>0.0428</td><td>0.0207</td><td>0.0954</td><td>0.0986</td><td>0.1539</td><td>0.1601</td></tr><tr><th>2</th><td>R</td><td>0.0453</td><td>0.0523</td><td>0.0843</td><td>0.0689</td><td>0.1183</td><td>0.2583</td><td>0.2156</td><td>0.3481</td></tr><tr><th>3</th><td>R</td><td>0.0262</td><td>0.0582</td><td>0.1099</td><td>0.1083</td><td>0.0974</td><td>0.228</td><td>0.2431</td><td>0.3771</td></tr><tr><th>4</th><td>R</td><td>0.01</td><td>0.0171</td><td>0.0623</td><td>0.0205</td><td>0.0205</td><td>0.0368</td><td>0.1098</td><td>0.1276</td></tr><tr><th>5</th><td>R</td><td>0.0762</td><td>0.0666</td><td>0.0481</td><td>0.0394</td><td>0.059</td><td>0.0649</td><td>0.1209</td><td>0.2467</td></tr><tr><th>6</th><td>R</td><td>0.0286</td><td>0.0453</td><td>0.0277</td><td>0.0174</td><td>0.0384</td><td>0.099</td><td>0.1201</td><td>0.1833</td></tr><tr><th>7</th><td>R</td><td>0.0317</td><td>0.0956</td><td>0.1321</td><td>0.1408</td><td>0.1674</td><td>0.171</td><td>0.0731</td><td>0.1401</td></tr><tr><th>8</th><td>R</td><td>0.0519</td><td>0.0548</td><td>0.0842</td><td>0.0319</td><td>0.1158</td><td>0.0922</td><td>0.1027</td><td>0.0613</td></tr><tr><th>9</th><td>R</td><td>0.0223</td><td>0.0375</td><td>0.0484</td><td>0.0475</td><td>0.0647</td><td>0.0591</td><td>0.0753</td><td>0.0098</td></tr><tr><th>10</th><td>R</td><td>0.0164</td><td>0.0173</td><td>0.0347</td><td>0.007</td><td>0.0187</td><td>0.0671</td><td>0.1056</td><td>0.0697</td></tr><tr><th>11</th><td>R</td><td>0.0039</td><td>0.0063</td><td>0.0152</td><td>0.0336</td><td>0.031</td><td>0.0284</td><td>0.0396</td><td>0.0272</td></tr><tr><th>12</th><td>R</td><td>0.0123</td><td>0.0309</td><td>0.0169</td><td>0.0313</td><td>0.0358</td><td>0.0102</td><td>0.0182</td><td>0.0579</td></tr><tr><th>13</th><td>R</td><td>0.0079</td><td>0.0086</td><td>0.0055</td><td>0.025</td><td>0.0344</td><td>0.0546</td><td>0.0528</td><td>0.0958</td></tr><tr><th>14</th><td>R</td><td>0.009</td><td>0.0062</td><td>0.0253</td><td>0.0489</td><td>0.1197</td><td>0.1589</td><td>0.1392</td><td>0.0987</td></tr><tr><th>15</th><td>R</td><td>0.0124</td><td>0.0433</td><td>0.0604</td><td>0.0449</td><td>0.0597</td><td>0.0355</td><td>0.0531</td><td>0.0343</td></tr><tr><th>16</th><td>R</td><td>0.0298</td><td>0.0615</td><td>0.065</td><td>0.0921</td><td>0.1615</td><td>0.2294</td><td>0.2176</td><td>0.2033</td></tr><tr><th>17</th><td>R</td><td>0.0352</td><td>0.0116</td><td>0.0191</td><td>0.0469</td><td>0.0737</td><td>0.1185</td><td>0.1683</td><td>0.1541</td></tr><tr><th>18</th><td>R</td><td>0.0192</td><td>0.0607</td><td>0.0378</td><td>0.0774</td><td>0.1388</td><td>0.0809</td><td>0.0568</td><td>0.0219</td></tr><tr><th>19</th><td>R</td><td>0.027</td><td>0.0092</td><td>0.0145</td><td>0.0278</td><td>0.0412</td><td>0.0757</td><td>0.1026</td><td>0.1138</td></tr><tr><th>20</th><td>R</td><td>0.0126</td><td>0.0149</td><td>0.0641</td><td>0.1732</td><td>0.2565</td><td>0.2559</td><td>0.2947</td><td>0.411</td></tr><tr><th>21</th><td>R</td><td>0.0473</td><td>0.0509</td><td>0.0819</td><td>0.1252</td><td>0.1783</td><td>0.307</td><td>0.3008</td><td>0.2362</td></tr><tr><th>22</th><td>R</td><td>0.0664</td><td>0.0575</td><td>0.0842</td><td>0.0372</td><td>0.0458</td><td>0.0771</td><td>0.0771</td><td>0.113</td></tr><tr><th>23</th><td>R</td><td>0.0099</td><td>0.0484</td><td>0.0299</td><td>0.0297</td><td>0.0652</td><td>0.1077</td><td>0.2363</td><td>0.2385</td></tr><tr><th>24</th><td>R</td><td>0.0115</td><td>0.015</td><td>0.0136</td><td>0.0076</td><td>0.0211</td><td>0.1058</td><td>0.1023</td><td>0.044</td></tr><tr><th>25</th><td>R</td><td>0.0293</td><td>0.0644</td><td>0.039</td><td>0.0173</td><td>0.0476</td><td>0.0816</td><td>0.0993</td><td>0.0315</td></tr><tr><th>26</th><td>R</td><td>0.0201</td><td>0.0026</td><td>0.0138</td><td>0.0062</td><td>0.0133</td><td>0.0151</td><td>0.0541</td><td>0.021</td></tr><tr><th>27</th><td>R</td><td>0.0151</td><td>0.032</td><td>0.0599</td><td>0.105</td><td>0.1163</td><td>0.1734</td><td>0.1679</td><td>0.1119</td></tr><tr><th>28</th><td>R</td><td>0.0177</td><td>0.03</td><td>0.0288</td><td>0.0394</td><td>0.063</td><td>0.0526</td><td>0.0688</td><td>0.0633</td></tr><tr><th>29</th><td>R</td><td>0.01</td><td>0.0275</td><td>0.019</td><td>0.0371</td><td>0.0416</td><td>0.0201</td><td>0.0314</td><td>0.0651</td></tr><tr><th>30</th><td>R</td><td>0.0189</td><td>0.0308</td><td>0.0197</td><td>0.0622</td><td>0.008</td><td>0.0789</td><td>0.144</td><td>0.1451</td></tr><tr><th>&vellip;</th><td>&vellip;</td><td>&vellip;</td><td>&vellip;</td><td>&vellip;</td><td>&vellip;</td><td>&vellip;</td><td>&vellip;</td><td>&vellip;</td><td>&vellip;</td></tr></tbody></table></div>"
      ],
      "text/latex": [
       "\\begin{tabular}{r|cccccccccc}\n",
       "\t& Type & a1 & a2 & a3 & a4 & a5 & a6 & a7 & a8 & \\\\\n",
       "\t\\hline\n",
       "\t& String1 & Float64 & Float64 & Float64 & Float64 & Float64 & Float64 & Float64 & Float64 & \\\\\n",
       "\t\\hline\n",
       "\t1 & R & 0.02 & 0.0371 & 0.0428 & 0.0207 & 0.0954 & 0.0986 & 0.1539 & 0.1601 & $\\dots$ \\\\\n",
       "\t2 & R & 0.0453 & 0.0523 & 0.0843 & 0.0689 & 0.1183 & 0.2583 & 0.2156 & 0.3481 & $\\dots$ \\\\\n",
       "\t3 & R & 0.0262 & 0.0582 & 0.1099 & 0.1083 & 0.0974 & 0.228 & 0.2431 & 0.3771 & $\\dots$ \\\\\n",
       "\t4 & R & 0.01 & 0.0171 & 0.0623 & 0.0205 & 0.0205 & 0.0368 & 0.1098 & 0.1276 & $\\dots$ \\\\\n",
       "\t5 & R & 0.0762 & 0.0666 & 0.0481 & 0.0394 & 0.059 & 0.0649 & 0.1209 & 0.2467 & $\\dots$ \\\\\n",
       "\t6 & R & 0.0286 & 0.0453 & 0.0277 & 0.0174 & 0.0384 & 0.099 & 0.1201 & 0.1833 & $\\dots$ \\\\\n",
       "\t7 & R & 0.0317 & 0.0956 & 0.1321 & 0.1408 & 0.1674 & 0.171 & 0.0731 & 0.1401 & $\\dots$ \\\\\n",
       "\t8 & R & 0.0519 & 0.0548 & 0.0842 & 0.0319 & 0.1158 & 0.0922 & 0.1027 & 0.0613 & $\\dots$ \\\\\n",
       "\t9 & R & 0.0223 & 0.0375 & 0.0484 & 0.0475 & 0.0647 & 0.0591 & 0.0753 & 0.0098 & $\\dots$ \\\\\n",
       "\t10 & R & 0.0164 & 0.0173 & 0.0347 & 0.007 & 0.0187 & 0.0671 & 0.1056 & 0.0697 & $\\dots$ \\\\\n",
       "\t11 & R & 0.0039 & 0.0063 & 0.0152 & 0.0336 & 0.031 & 0.0284 & 0.0396 & 0.0272 & $\\dots$ \\\\\n",
       "\t12 & R & 0.0123 & 0.0309 & 0.0169 & 0.0313 & 0.0358 & 0.0102 & 0.0182 & 0.0579 & $\\dots$ \\\\\n",
       "\t13 & R & 0.0079 & 0.0086 & 0.0055 & 0.025 & 0.0344 & 0.0546 & 0.0528 & 0.0958 & $\\dots$ \\\\\n",
       "\t14 & R & 0.009 & 0.0062 & 0.0253 & 0.0489 & 0.1197 & 0.1589 & 0.1392 & 0.0987 & $\\dots$ \\\\\n",
       "\t15 & R & 0.0124 & 0.0433 & 0.0604 & 0.0449 & 0.0597 & 0.0355 & 0.0531 & 0.0343 & $\\dots$ \\\\\n",
       "\t16 & R & 0.0298 & 0.0615 & 0.065 & 0.0921 & 0.1615 & 0.2294 & 0.2176 & 0.2033 & $\\dots$ \\\\\n",
       "\t17 & R & 0.0352 & 0.0116 & 0.0191 & 0.0469 & 0.0737 & 0.1185 & 0.1683 & 0.1541 & $\\dots$ \\\\\n",
       "\t18 & R & 0.0192 & 0.0607 & 0.0378 & 0.0774 & 0.1388 & 0.0809 & 0.0568 & 0.0219 & $\\dots$ \\\\\n",
       "\t19 & R & 0.027 & 0.0092 & 0.0145 & 0.0278 & 0.0412 & 0.0757 & 0.1026 & 0.1138 & $\\dots$ \\\\\n",
       "\t20 & R & 0.0126 & 0.0149 & 0.0641 & 0.1732 & 0.2565 & 0.2559 & 0.2947 & 0.411 & $\\dots$ \\\\\n",
       "\t21 & R & 0.0473 & 0.0509 & 0.0819 & 0.1252 & 0.1783 & 0.307 & 0.3008 & 0.2362 & $\\dots$ \\\\\n",
       "\t22 & R & 0.0664 & 0.0575 & 0.0842 & 0.0372 & 0.0458 & 0.0771 & 0.0771 & 0.113 & $\\dots$ \\\\\n",
       "\t23 & R & 0.0099 & 0.0484 & 0.0299 & 0.0297 & 0.0652 & 0.1077 & 0.2363 & 0.2385 & $\\dots$ \\\\\n",
       "\t24 & R & 0.0115 & 0.015 & 0.0136 & 0.0076 & 0.0211 & 0.1058 & 0.1023 & 0.044 & $\\dots$ \\\\\n",
       "\t25 & R & 0.0293 & 0.0644 & 0.039 & 0.0173 & 0.0476 & 0.0816 & 0.0993 & 0.0315 & $\\dots$ \\\\\n",
       "\t26 & R & 0.0201 & 0.0026 & 0.0138 & 0.0062 & 0.0133 & 0.0151 & 0.0541 & 0.021 & $\\dots$ \\\\\n",
       "\t27 & R & 0.0151 & 0.032 & 0.0599 & 0.105 & 0.1163 & 0.1734 & 0.1679 & 0.1119 & $\\dots$ \\\\\n",
       "\t28 & R & 0.0177 & 0.03 & 0.0288 & 0.0394 & 0.063 & 0.0526 & 0.0688 & 0.0633 & $\\dots$ \\\\\n",
       "\t29 & R & 0.01 & 0.0275 & 0.019 & 0.0371 & 0.0416 & 0.0201 & 0.0314 & 0.0651 & $\\dots$ \\\\\n",
       "\t30 & R & 0.0189 & 0.0308 & 0.0197 & 0.0622 & 0.008 & 0.0789 & 0.144 & 0.1451 & $\\dots$ \\\\\n",
       "\t$\\dots$ & $\\dots$ & $\\dots$ & $\\dots$ & $\\dots$ & $\\dots$ & $\\dots$ & $\\dots$ & $\\dots$ & $\\dots$ &  \\\\\n",
       "\\end{tabular}\n"
      ],
      "text/plain": [
       "\u001b[1m208×61 DataFrame\u001b[0m\n",
       "\u001b[1m Row \u001b[0m│\u001b[1m Type    \u001b[0m\u001b[1m a1      \u001b[0m\u001b[1m a2      \u001b[0m\u001b[1m a3      \u001b[0m\u001b[1m a4      \u001b[0m\u001b[1m a5      \u001b[0m\u001b[1m a6      \u001b[0m\u001b[1m a7      \u001b[0m\u001b[1m\u001b[0m ⋯\n",
       "\u001b[1m     \u001b[0m│\u001b[90m String1 \u001b[0m\u001b[90m Float64 \u001b[0m\u001b[90m Float64 \u001b[0m\u001b[90m Float64 \u001b[0m\u001b[90m Float64 \u001b[0m\u001b[90m Float64 \u001b[0m\u001b[90m Float64 \u001b[0m\u001b[90m Float64 \u001b[0m\u001b[90m\u001b[0m ⋯\n",
       "─────┼──────────────────────────────────────────────────────────────────────────\n",
       "   1 │ R         0.02     0.0371   0.0428   0.0207   0.0954   0.0986   0.1539  ⋯\n",
       "   2 │ R         0.0453   0.0523   0.0843   0.0689   0.1183   0.2583   0.2156\n",
       "   3 │ R         0.0262   0.0582   0.1099   0.1083   0.0974   0.228    0.2431\n",
       "   4 │ R         0.01     0.0171   0.0623   0.0205   0.0205   0.0368   0.1098\n",
       "   5 │ R         0.0762   0.0666   0.0481   0.0394   0.059    0.0649   0.1209  ⋯\n",
       "   6 │ R         0.0286   0.0453   0.0277   0.0174   0.0384   0.099    0.1201\n",
       "   7 │ R         0.0317   0.0956   0.1321   0.1408   0.1674   0.171    0.0731\n",
       "   8 │ R         0.0519   0.0548   0.0842   0.0319   0.1158   0.0922   0.1027\n",
       "   9 │ R         0.0223   0.0375   0.0484   0.0475   0.0647   0.0591   0.0753  ⋯\n",
       "  10 │ R         0.0164   0.0173   0.0347   0.007    0.0187   0.0671   0.1056\n",
       "  11 │ R         0.0039   0.0063   0.0152   0.0336   0.031    0.0284   0.0396\n",
       "  ⋮  │    ⋮        ⋮        ⋮        ⋮        ⋮        ⋮        ⋮        ⋮     ⋱\n",
       " 199 │ M         0.0238   0.0318   0.0422   0.0399   0.0788   0.0766   0.0881\n",
       " 200 │ M         0.0116   0.0744   0.0367   0.0225   0.0076   0.0545   0.111   ⋯\n",
       " 201 │ M         0.0131   0.0387   0.0329   0.0078   0.0721   0.1341   0.1626\n",
       " 202 │ M         0.0335   0.0258   0.0398   0.057    0.0529   0.1091   0.1709\n",
       " 203 │ M         0.0272   0.0378   0.0488   0.0848   0.1127   0.1103   0.1349\n",
       " 204 │ M         0.0187   0.0346   0.0168   0.0177   0.0393   0.163    0.2028  ⋯\n",
       " 205 │ M         0.0323   0.0101   0.0298   0.0564   0.076    0.0958   0.099\n",
       " 206 │ M         0.0522   0.0437   0.018    0.0292   0.0351   0.1171   0.1257\n",
       " 207 │ M         0.0303   0.0353   0.049    0.0608   0.0167   0.1354   0.1465\n",
       " 208 │ M         0.026    0.0363   0.0136   0.0272   0.0214   0.0338   0.0655  ⋯\n",
       "\u001b[36m                                                 53 columns and 187 rows omitted\u001b[0m"
      ]
     },
     "execution_count": 14,
     "metadata": {},
     "output_type": "execute_result"
    }
   ],
   "source": [
    "dataSonar = CSV.read(\"Datasets/sonar.csv\", DataFrame)\n",
    "dataSonar#[93:105,:]"
   ]
  },
  {
   "cell_type": "code",
   "execution_count": 39,
   "id": "ba946362-bec7-4b85-ac82-5b4fd3b939d3",
   "metadata": {},
   "outputs": [
    {
     "data": {
      "text/plain": [
       "\"Porcentaje datos con R: 47 %, Porcentaje datos con M: 53 %\""
      ]
     },
     "execution_count": 39,
     "metadata": {},
     "output_type": "execute_result"
    }
   ],
   "source": [
    "Rdata, Mdata = groupby(dataSonar, :Type)\n",
    "NR, NM = size(Rdata,1), size(Mdata,1)\n",
    "N = NR + NM\n",
    "NRpart, NMpart = 100*NR/N, 100*NM/N\n",
    "\n",
    "#println(\"Porcentaje datos con R: $NRpart % \\n Porcentaje datos con M: $NMpart %\")\n",
    "@sprintf(\"Porcentaje datos con R: %.0f %s, Porcentaje datos con M: %.0f %s\", NRpart, \"%\", NMpart, \"%\")"
   ]
  },
  {
   "cell_type": "code",
   "execution_count": 41,
   "id": "1616f73f-dc85-40b1-a9f2-4a586fff018f",
   "metadata": {},
   "outputs": [
    {
     "data": {
      "text/html": [
       "<div class=\"data-frame\"><p>97 rows × 61 columns (omitted printing of 52 columns)</p><table class=\"data-frame\"><thead><tr><th></th><th>Type</th><th>a1</th><th>a2</th><th>a3</th><th>a4</th><th>a5</th><th>a6</th><th>a7</th><th>a8</th></tr><tr><th></th><th title=\"String1\">String1</th><th title=\"Float64\">Float64</th><th title=\"Float64\">Float64</th><th title=\"Float64\">Float64</th><th title=\"Float64\">Float64</th><th title=\"Float64\">Float64</th><th title=\"Float64\">Float64</th><th title=\"Float64\">Float64</th><th title=\"Float64\">Float64</th></tr></thead><tbody><tr><th>1</th><td>R</td><td>0.02</td><td>0.0371</td><td>0.0428</td><td>0.0207</td><td>0.0954</td><td>0.0986</td><td>0.1539</td><td>0.1601</td></tr><tr><th>2</th><td>R</td><td>0.0453</td><td>0.0523</td><td>0.0843</td><td>0.0689</td><td>0.1183</td><td>0.2583</td><td>0.2156</td><td>0.3481</td></tr><tr><th>3</th><td>R</td><td>0.0262</td><td>0.0582</td><td>0.1099</td><td>0.1083</td><td>0.0974</td><td>0.228</td><td>0.2431</td><td>0.3771</td></tr><tr><th>4</th><td>R</td><td>0.01</td><td>0.0171</td><td>0.0623</td><td>0.0205</td><td>0.0205</td><td>0.0368</td><td>0.1098</td><td>0.1276</td></tr><tr><th>5</th><td>R</td><td>0.0762</td><td>0.0666</td><td>0.0481</td><td>0.0394</td><td>0.059</td><td>0.0649</td><td>0.1209</td><td>0.2467</td></tr><tr><th>6</th><td>R</td><td>0.0286</td><td>0.0453</td><td>0.0277</td><td>0.0174</td><td>0.0384</td><td>0.099</td><td>0.1201</td><td>0.1833</td></tr><tr><th>7</th><td>R</td><td>0.0317</td><td>0.0956</td><td>0.1321</td><td>0.1408</td><td>0.1674</td><td>0.171</td><td>0.0731</td><td>0.1401</td></tr><tr><th>8</th><td>R</td><td>0.0519</td><td>0.0548</td><td>0.0842</td><td>0.0319</td><td>0.1158</td><td>0.0922</td><td>0.1027</td><td>0.0613</td></tr><tr><th>9</th><td>R</td><td>0.0223</td><td>0.0375</td><td>0.0484</td><td>0.0475</td><td>0.0647</td><td>0.0591</td><td>0.0753</td><td>0.0098</td></tr><tr><th>10</th><td>R</td><td>0.0164</td><td>0.0173</td><td>0.0347</td><td>0.007</td><td>0.0187</td><td>0.0671</td><td>0.1056</td><td>0.0697</td></tr><tr><th>11</th><td>R</td><td>0.0039</td><td>0.0063</td><td>0.0152</td><td>0.0336</td><td>0.031</td><td>0.0284</td><td>0.0396</td><td>0.0272</td></tr><tr><th>12</th><td>R</td><td>0.0123</td><td>0.0309</td><td>0.0169</td><td>0.0313</td><td>0.0358</td><td>0.0102</td><td>0.0182</td><td>0.0579</td></tr><tr><th>13</th><td>R</td><td>0.0079</td><td>0.0086</td><td>0.0055</td><td>0.025</td><td>0.0344</td><td>0.0546</td><td>0.0528</td><td>0.0958</td></tr><tr><th>14</th><td>R</td><td>0.009</td><td>0.0062</td><td>0.0253</td><td>0.0489</td><td>0.1197</td><td>0.1589</td><td>0.1392</td><td>0.0987</td></tr><tr><th>15</th><td>R</td><td>0.0124</td><td>0.0433</td><td>0.0604</td><td>0.0449</td><td>0.0597</td><td>0.0355</td><td>0.0531</td><td>0.0343</td></tr><tr><th>16</th><td>R</td><td>0.0298</td><td>0.0615</td><td>0.065</td><td>0.0921</td><td>0.1615</td><td>0.2294</td><td>0.2176</td><td>0.2033</td></tr><tr><th>17</th><td>R</td><td>0.0352</td><td>0.0116</td><td>0.0191</td><td>0.0469</td><td>0.0737</td><td>0.1185</td><td>0.1683</td><td>0.1541</td></tr><tr><th>18</th><td>R</td><td>0.0192</td><td>0.0607</td><td>0.0378</td><td>0.0774</td><td>0.1388</td><td>0.0809</td><td>0.0568</td><td>0.0219</td></tr><tr><th>19</th><td>R</td><td>0.027</td><td>0.0092</td><td>0.0145</td><td>0.0278</td><td>0.0412</td><td>0.0757</td><td>0.1026</td><td>0.1138</td></tr><tr><th>20</th><td>R</td><td>0.0126</td><td>0.0149</td><td>0.0641</td><td>0.1732</td><td>0.2565</td><td>0.2559</td><td>0.2947</td><td>0.411</td></tr><tr><th>21</th><td>R</td><td>0.0473</td><td>0.0509</td><td>0.0819</td><td>0.1252</td><td>0.1783</td><td>0.307</td><td>0.3008</td><td>0.2362</td></tr><tr><th>22</th><td>R</td><td>0.0664</td><td>0.0575</td><td>0.0842</td><td>0.0372</td><td>0.0458</td><td>0.0771</td><td>0.0771</td><td>0.113</td></tr><tr><th>23</th><td>R</td><td>0.0099</td><td>0.0484</td><td>0.0299</td><td>0.0297</td><td>0.0652</td><td>0.1077</td><td>0.2363</td><td>0.2385</td></tr><tr><th>24</th><td>R</td><td>0.0115</td><td>0.015</td><td>0.0136</td><td>0.0076</td><td>0.0211</td><td>0.1058</td><td>0.1023</td><td>0.044</td></tr><tr><th>25</th><td>R</td><td>0.0293</td><td>0.0644</td><td>0.039</td><td>0.0173</td><td>0.0476</td><td>0.0816</td><td>0.0993</td><td>0.0315</td></tr><tr><th>26</th><td>R</td><td>0.0201</td><td>0.0026</td><td>0.0138</td><td>0.0062</td><td>0.0133</td><td>0.0151</td><td>0.0541</td><td>0.021</td></tr><tr><th>27</th><td>R</td><td>0.0151</td><td>0.032</td><td>0.0599</td><td>0.105</td><td>0.1163</td><td>0.1734</td><td>0.1679</td><td>0.1119</td></tr><tr><th>28</th><td>R</td><td>0.0177</td><td>0.03</td><td>0.0288</td><td>0.0394</td><td>0.063</td><td>0.0526</td><td>0.0688</td><td>0.0633</td></tr><tr><th>29</th><td>R</td><td>0.01</td><td>0.0275</td><td>0.019</td><td>0.0371</td><td>0.0416</td><td>0.0201</td><td>0.0314</td><td>0.0651</td></tr><tr><th>30</th><td>R</td><td>0.0189</td><td>0.0308</td><td>0.0197</td><td>0.0622</td><td>0.008</td><td>0.0789</td><td>0.144</td><td>0.1451</td></tr><tr><th>&vellip;</th><td>&vellip;</td><td>&vellip;</td><td>&vellip;</td><td>&vellip;</td><td>&vellip;</td><td>&vellip;</td><td>&vellip;</td><td>&vellip;</td><td>&vellip;</td></tr></tbody></table></div>"
      ],
      "text/latex": [
       "\\begin{tabular}{r|cccccccccc}\n",
       "\t& Type & a1 & a2 & a3 & a4 & a5 & a6 & a7 & a8 & \\\\\n",
       "\t\\hline\n",
       "\t& String1 & Float64 & Float64 & Float64 & Float64 & Float64 & Float64 & Float64 & Float64 & \\\\\n",
       "\t\\hline\n",
       "\t1 & R & 0.02 & 0.0371 & 0.0428 & 0.0207 & 0.0954 & 0.0986 & 0.1539 & 0.1601 & $\\dots$ \\\\\n",
       "\t2 & R & 0.0453 & 0.0523 & 0.0843 & 0.0689 & 0.1183 & 0.2583 & 0.2156 & 0.3481 & $\\dots$ \\\\\n",
       "\t3 & R & 0.0262 & 0.0582 & 0.1099 & 0.1083 & 0.0974 & 0.228 & 0.2431 & 0.3771 & $\\dots$ \\\\\n",
       "\t4 & R & 0.01 & 0.0171 & 0.0623 & 0.0205 & 0.0205 & 0.0368 & 0.1098 & 0.1276 & $\\dots$ \\\\\n",
       "\t5 & R & 0.0762 & 0.0666 & 0.0481 & 0.0394 & 0.059 & 0.0649 & 0.1209 & 0.2467 & $\\dots$ \\\\\n",
       "\t6 & R & 0.0286 & 0.0453 & 0.0277 & 0.0174 & 0.0384 & 0.099 & 0.1201 & 0.1833 & $\\dots$ \\\\\n",
       "\t7 & R & 0.0317 & 0.0956 & 0.1321 & 0.1408 & 0.1674 & 0.171 & 0.0731 & 0.1401 & $\\dots$ \\\\\n",
       "\t8 & R & 0.0519 & 0.0548 & 0.0842 & 0.0319 & 0.1158 & 0.0922 & 0.1027 & 0.0613 & $\\dots$ \\\\\n",
       "\t9 & R & 0.0223 & 0.0375 & 0.0484 & 0.0475 & 0.0647 & 0.0591 & 0.0753 & 0.0098 & $\\dots$ \\\\\n",
       "\t10 & R & 0.0164 & 0.0173 & 0.0347 & 0.007 & 0.0187 & 0.0671 & 0.1056 & 0.0697 & $\\dots$ \\\\\n",
       "\t11 & R & 0.0039 & 0.0063 & 0.0152 & 0.0336 & 0.031 & 0.0284 & 0.0396 & 0.0272 & $\\dots$ \\\\\n",
       "\t12 & R & 0.0123 & 0.0309 & 0.0169 & 0.0313 & 0.0358 & 0.0102 & 0.0182 & 0.0579 & $\\dots$ \\\\\n",
       "\t13 & R & 0.0079 & 0.0086 & 0.0055 & 0.025 & 0.0344 & 0.0546 & 0.0528 & 0.0958 & $\\dots$ \\\\\n",
       "\t14 & R & 0.009 & 0.0062 & 0.0253 & 0.0489 & 0.1197 & 0.1589 & 0.1392 & 0.0987 & $\\dots$ \\\\\n",
       "\t15 & R & 0.0124 & 0.0433 & 0.0604 & 0.0449 & 0.0597 & 0.0355 & 0.0531 & 0.0343 & $\\dots$ \\\\\n",
       "\t16 & R & 0.0298 & 0.0615 & 0.065 & 0.0921 & 0.1615 & 0.2294 & 0.2176 & 0.2033 & $\\dots$ \\\\\n",
       "\t17 & R & 0.0352 & 0.0116 & 0.0191 & 0.0469 & 0.0737 & 0.1185 & 0.1683 & 0.1541 & $\\dots$ \\\\\n",
       "\t18 & R & 0.0192 & 0.0607 & 0.0378 & 0.0774 & 0.1388 & 0.0809 & 0.0568 & 0.0219 & $\\dots$ \\\\\n",
       "\t19 & R & 0.027 & 0.0092 & 0.0145 & 0.0278 & 0.0412 & 0.0757 & 0.1026 & 0.1138 & $\\dots$ \\\\\n",
       "\t20 & R & 0.0126 & 0.0149 & 0.0641 & 0.1732 & 0.2565 & 0.2559 & 0.2947 & 0.411 & $\\dots$ \\\\\n",
       "\t21 & R & 0.0473 & 0.0509 & 0.0819 & 0.1252 & 0.1783 & 0.307 & 0.3008 & 0.2362 & $\\dots$ \\\\\n",
       "\t22 & R & 0.0664 & 0.0575 & 0.0842 & 0.0372 & 0.0458 & 0.0771 & 0.0771 & 0.113 & $\\dots$ \\\\\n",
       "\t23 & R & 0.0099 & 0.0484 & 0.0299 & 0.0297 & 0.0652 & 0.1077 & 0.2363 & 0.2385 & $\\dots$ \\\\\n",
       "\t24 & R & 0.0115 & 0.015 & 0.0136 & 0.0076 & 0.0211 & 0.1058 & 0.1023 & 0.044 & $\\dots$ \\\\\n",
       "\t25 & R & 0.0293 & 0.0644 & 0.039 & 0.0173 & 0.0476 & 0.0816 & 0.0993 & 0.0315 & $\\dots$ \\\\\n",
       "\t26 & R & 0.0201 & 0.0026 & 0.0138 & 0.0062 & 0.0133 & 0.0151 & 0.0541 & 0.021 & $\\dots$ \\\\\n",
       "\t27 & R & 0.0151 & 0.032 & 0.0599 & 0.105 & 0.1163 & 0.1734 & 0.1679 & 0.1119 & $\\dots$ \\\\\n",
       "\t28 & R & 0.0177 & 0.03 & 0.0288 & 0.0394 & 0.063 & 0.0526 & 0.0688 & 0.0633 & $\\dots$ \\\\\n",
       "\t29 & R & 0.01 & 0.0275 & 0.019 & 0.0371 & 0.0416 & 0.0201 & 0.0314 & 0.0651 & $\\dots$ \\\\\n",
       "\t30 & R & 0.0189 & 0.0308 & 0.0197 & 0.0622 & 0.008 & 0.0789 & 0.144 & 0.1451 & $\\dots$ \\\\\n",
       "\t$\\dots$ & $\\dots$ & $\\dots$ & $\\dots$ & $\\dots$ & $\\dots$ & $\\dots$ & $\\dots$ & $\\dots$ & $\\dots$ &  \\\\\n",
       "\\end{tabular}\n"
      ],
      "text/plain": [
       "\u001b[1m97×61 SubDataFrame\u001b[0m\n",
       "\u001b[1m Row \u001b[0m│\u001b[1m Type    \u001b[0m\u001b[1m a1      \u001b[0m\u001b[1m a2      \u001b[0m\u001b[1m a3      \u001b[0m\u001b[1m a4      \u001b[0m\u001b[1m a5      \u001b[0m\u001b[1m a6      \u001b[0m\u001b[1m a7      \u001b[0m\u001b[1m\u001b[0m ⋯\n",
       "\u001b[1m     \u001b[0m│\u001b[90m String1 \u001b[0m\u001b[90m Float64 \u001b[0m\u001b[90m Float64 \u001b[0m\u001b[90m Float64 \u001b[0m\u001b[90m Float64 \u001b[0m\u001b[90m Float64 \u001b[0m\u001b[90m Float64 \u001b[0m\u001b[90m Float64 \u001b[0m\u001b[90m\u001b[0m ⋯\n",
       "─────┼──────────────────────────────────────────────────────────────────────────\n",
       "   1 │ R         0.02     0.0371   0.0428   0.0207   0.0954   0.0986   0.1539  ⋯\n",
       "   2 │ R         0.0453   0.0523   0.0843   0.0689   0.1183   0.2583   0.2156\n",
       "   3 │ R         0.0262   0.0582   0.1099   0.1083   0.0974   0.228    0.2431\n",
       "   4 │ R         0.01     0.0171   0.0623   0.0205   0.0205   0.0368   0.1098\n",
       "   5 │ R         0.0762   0.0666   0.0481   0.0394   0.059    0.0649   0.1209  ⋯\n",
       "   6 │ R         0.0286   0.0453   0.0277   0.0174   0.0384   0.099    0.1201\n",
       "   7 │ R         0.0317   0.0956   0.1321   0.1408   0.1674   0.171    0.0731\n",
       "   8 │ R         0.0519   0.0548   0.0842   0.0319   0.1158   0.0922   0.1027\n",
       "   9 │ R         0.0223   0.0375   0.0484   0.0475   0.0647   0.0591   0.0753  ⋯\n",
       "  10 │ R         0.0164   0.0173   0.0347   0.007    0.0187   0.0671   0.1056\n",
       "  11 │ R         0.0039   0.0063   0.0152   0.0336   0.031    0.0284   0.0396\n",
       "  ⋮  │    ⋮        ⋮        ⋮        ⋮        ⋮        ⋮        ⋮        ⋮     ⋱\n",
       "  88 │ R         0.0856   0.0454   0.0382   0.0203   0.0385   0.0534   0.214\n",
       "  89 │ R         0.0274   0.0242   0.0621   0.056    0.1129   0.0973   0.1823  ⋯\n",
       "  90 │ R         0.0235   0.0291   0.0749   0.0519   0.0227   0.0834   0.0677\n",
       "  91 │ R         0.0126   0.0519   0.0621   0.0518   0.1072   0.2587   0.2304\n",
       "  92 │ R         0.0253   0.0808   0.0507   0.0244   0.1724   0.3823   0.3729\n",
       "  93 │ R         0.026    0.0192   0.0254   0.0061   0.0352   0.0701   0.1263  ⋯\n",
       "  94 │ R         0.0459   0.0437   0.0347   0.0456   0.0067   0.089    0.1798\n",
       "  95 │ R         0.0025   0.0309   0.0171   0.0228   0.0434   0.1224   0.1947\n",
       "  96 │ R         0.0291   0.04     0.0771   0.0809   0.0521   0.1051   0.0145\n",
       "  97 │ R         0.0181   0.0146   0.0026   0.0141   0.0421   0.0473   0.0361  ⋯\n",
       "\u001b[36m                                                  53 columns and 76 rows omitted\u001b[0m"
      ]
     },
     "execution_count": 41,
     "metadata": {},
     "output_type": "execute_result"
    }
   ],
   "source": [
    "Rdata"
   ]
  },
  {
   "cell_type": "markdown",
   "id": "ea86b001-42c2-4eaa-9680-cab24e164236",
   "metadata": {},
   "source": [
    "### Train and Test Datasets"
   ]
  },
  {
   "cell_type": "code",
   "execution_count": 53,
   "id": "493f3729-76d2-47ff-8665-5f090bf996d8",
   "metadata": {},
   "outputs": [
    {
     "data": {
      "text/plain": [
       "(\u001b[1m187×61 DataFrame\u001b[0m\n",
       "\u001b[1m Row \u001b[0m│\u001b[1m Type    \u001b[0m\u001b[1m a1      \u001b[0m\u001b[1m a2      \u001b[0m\u001b[1m a3      \u001b[0m\u001b[1m a4      \u001b[0m\u001b[1m a5      \u001b[0m\u001b[1m a6      \u001b[0m\u001b[1m a7      \u001b[0m\u001b[1m\u001b[0m ⋯\n",
       "\u001b[1m     \u001b[0m│\u001b[90m String1 \u001b[0m\u001b[90m Float64 \u001b[0m\u001b[90m Float64 \u001b[0m\u001b[90m Float64 \u001b[0m\u001b[90m Float64 \u001b[0m\u001b[90m Float64 \u001b[0m\u001b[90m Float64 \u001b[0m\u001b[90m Float64 \u001b[0m\u001b[90m\u001b[0m ⋯\n",
       "─────┼──────────────────────────────────────────────────────────────────────────\n",
       "   1 │ R         0.0151   0.032    0.0599   0.105    0.1163   0.1734   0.1679  ⋯\n",
       "   2 │ R         0.0093   0.0269   0.0217   0.0339   0.0305   0.1172   0.145\n",
       "   3 │ R         0.0519   0.0548   0.0842   0.0319   0.1158   0.0922   0.1027\n",
       "   4 │ R         0.0211   0.0319   0.0415   0.0286   0.0121   0.0438   0.1299\n",
       "   5 │ R         0.0333   0.0221   0.027    0.0481   0.0679   0.0981   0.0843  ⋯\n",
       "   6 │ R         0.019    0.0038   0.0642   0.0452   0.0333   0.069    0.0901\n",
       "   7 │ R         0.0109   0.0093   0.0121   0.0378   0.0679   0.0863   0.1004\n",
       "   8 │ R         0.027    0.0092   0.0145   0.0278   0.0412   0.0757   0.1026\n",
       "   9 │ R         0.0208   0.0186   0.0131   0.0211   0.061    0.0613   0.0612  ⋯\n",
       "  10 │ R         0.0123   0.0022   0.0196   0.0206   0.018    0.0492   0.0033\n",
       "  11 │ R         0.0293   0.0378   0.0257   0.0062   0.013    0.0612   0.0895\n",
       "  ⋮  │    ⋮        ⋮        ⋮        ⋮        ⋮        ⋮        ⋮        ⋮     ⋱\n",
       " 178 │ M         0.0156   0.021    0.0282   0.0596   0.0462   0.0779   0.1365\n",
       " 179 │ M         0.0163   0.0198   0.0202   0.0386   0.0752   0.1444   0.1487  ⋯\n",
       " 180 │ M         0.0388   0.0324   0.0688   0.0898   0.1267   0.1515   0.2134\n",
       " 181 │ M         0.021    0.0121   0.0203   0.1036   0.1675   0.0418   0.0723\n",
       " 182 │ M         0.0197   0.0394   0.0384   0.0076   0.0251   0.0629   0.0747\n",
       " 183 │ M         0.0201   0.0423   0.0554   0.0783   0.062    0.0871   0.1201  ⋯\n",
       " 184 │ M         0.1313   0.2339   0.3059   0.4264   0.401    0.1791   0.1853\n",
       " 185 │ M         0.0411   0.0277   0.0604   0.0525   0.0489   0.0385   0.0611\n",
       " 186 │ M         0.0211   0.0128   0.0015   0.045    0.0711   0.1563   0.1518\n",
       " 187 │ M         0.0217   0.0152   0.0346   0.0346   0.0484   0.0526   0.0773  ⋯\n",
       "\u001b[36m                                                 53 columns and 166 rows omitted\u001b[0m, \u001b[1m21×61 DataFrame\u001b[0m\n",
       "\u001b[1m Row \u001b[0m│\u001b[1m Type    \u001b[0m\u001b[1m a1      \u001b[0m\u001b[1m a2      \u001b[0m\u001b[1m a3      \u001b[0m\u001b[1m a4      \u001b[0m\u001b[1m a5      \u001b[0m\u001b[1m a6      \u001b[0m\u001b[1m a7      \u001b[0m\u001b[1m\u001b[0m ⋯\n",
       "\u001b[1m     \u001b[0m│\u001b[90m String1 \u001b[0m\u001b[90m Float64 \u001b[0m\u001b[90m Float64 \u001b[0m\u001b[90m Float64 \u001b[0m\u001b[90m Float64 \u001b[0m\u001b[90m Float64 \u001b[0m\u001b[90m Float64 \u001b[0m\u001b[90m Float64 \u001b[0m\u001b[90m\u001b[0m ⋯\n",
       "─────┼──────────────────────────────────────────────────────────────────────────\n",
       "   1 │ R         0.026    0.0192   0.0254   0.0061   0.0352   0.0701   0.1263  ⋯\n",
       "   2 │ R         0.013    0.0006   0.0088   0.0456   0.0525   0.0778   0.0931\n",
       "   3 │ R         0.0176   0.0172   0.0501   0.0285   0.0262   0.0351   0.0362\n",
       "   4 │ R         0.0094   0.0166   0.0398   0.0359   0.0681   0.0706   0.102\n",
       "   5 │ R         0.0274   0.0242   0.0621   0.056    0.1129   0.0973   0.1823  ⋯\n",
       "   6 │ R         0.02     0.0371   0.0428   0.0207   0.0954   0.0986   0.1539\n",
       "   7 │ R         0.0409   0.0421   0.0573   0.013    0.0183   0.1019   0.1054\n",
       "   8 │ R         0.0408   0.0653   0.0397   0.0604   0.0496   0.1817   0.1178\n",
       "   9 │ R         0.0442   0.0477   0.0049   0.0581   0.0278   0.0678   0.1664  ⋯\n",
       "  10 │ R         0.0373   0.0281   0.0232   0.0225   0.0179   0.0733   0.0841\n",
       "  11 │ M         0.1371   0.1226   0.1385   0.1484   0.1776   0.1428   0.1773\n",
       "  12 │ M         0.0158   0.0239   0.015    0.0494   0.0988   0.1425   0.1463\n",
       "  13 │ M         0.0191   0.0173   0.0291   0.0301   0.0463   0.069    0.0576  ⋯\n",
       "  14 │ M         0.0094   0.0333   0.0306   0.0376   0.1296   0.1795   0.1909\n",
       "  15 │ M         0.027    0.0163   0.0341   0.0247   0.0822   0.1256   0.1323\n",
       "  16 │ M         0.0629   0.1065   0.1526   0.1229   0.1437   0.119    0.0884\n",
       "  17 │ M         0.0131   0.0387   0.0329   0.0078   0.0721   0.1341   0.1626  ⋯\n",
       "  18 │ M         0.0294   0.0123   0.0117   0.0113   0.0497   0.0998   0.1326\n",
       "  19 │ M         0.0368   0.0279   0.0103   0.0566   0.0759   0.0679   0.097\n",
       "  20 │ M         0.0283   0.0599   0.0656   0.0229   0.0839   0.1673   0.1154\n",
       "  21 │ M         0.0179   0.0136   0.0408   0.0633   0.0596   0.0808   0.209   ⋯\n",
       "\u001b[36m                                                              53 columns omitted\u001b[0m)"
      ]
     },
     "execution_count": 53,
     "metadata": {},
     "output_type": "execute_result"
    }
   ],
   "source": [
    "R1, R2 = splitobs(shuffleobs(Rdata), at = 0.9)\n",
    "M1, M2 = splitobs(shuffleobs(Mdata), at = 0.9)\n",
    "\n",
    "train, test = [R1; M1], [R2; M2]"
   ]
  },
  {
   "cell_type": "code",
   "execution_count": null,
   "id": "b21292d2-5065-4699-a5ac-7e39f76c21f2",
   "metadata": {},
   "outputs": [],
   "source": []
  }
 ],
 "metadata": {
  "@webio": {
   "lastCommId": "b4b5a568-2236-4bfe-8061-77623066c936",
   "lastKernelId": "a3651ec1-9e27-4e1c-b6d3-8d5b9119a1a6"
  },
  "kernelspec": {
   "display_name": "Julia 1.7.2",
   "language": "julia",
   "name": "julia-1.7"
  },
  "language_info": {
   "file_extension": ".jl",
   "mimetype": "application/julia",
   "name": "julia",
   "version": "1.7.2"
  }
 },
 "nbformat": 4,
 "nbformat_minor": 5
}
