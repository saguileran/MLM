{
 "cells": [
  {
   "cell_type": "code",
   "execution_count": 6,
   "id": "3d400b85-24cb-47f3-8073-9f6617865122",
   "metadata": {},
   "outputs": [
    {
     "name": "stderr",
     "output_type": "stream",
     "text": [
      "┌ Warning: The number and/or types of data arguments do not match what the specified model supports.\n",
      "│ Run `@doc MLJScikitLearnInterface.LinearRegressor` to learn more about your model's requirements.\n",
      "│ \n",
      "│ Commonly, but non exclusively, supervised models are constructed using the syntax `machine(model, X, y)` or `machine(model, X, y, w)` while most other models with `machine(model, X)`. Here `X` are features, `y` a target, and `w` sample or class weights.\n",
      "│ In general, data in `machine(model, data...)` must satisfy `scitype(data) <: MLJ.fit_data_scitype(model)` unless the right-hand side contains `Unknown` scitypes.\n",
      "│ In the present case:\n",
      "│ scitype(data) = Tuple{AbstractMatrix{Continuous}, AbstractMatrix{Multiclass{3}}}\n",
      "│ fit_data_scitype(model) = Tuple{Table{<:AbstractVector{<:Continuous}}, AbstractVector{Continuous}}\n",
      "└ @ MLJBase C:\\Users\\sebas\\.julia\\packages\\MLJBase\\rMXo2\\src\\machines.jl:124\n"
     ]
    },
    {
     "ename": "LoadError",
     "evalue": "ArgumentError: `prediction_type(LogLoss(tol = 2.220446049250313e-16)) == probabilistic` but `prediction_type(LinearRegressor) == deterministic`.If your model really is making probabilistic predictions, try explicitly specifiying operations. For example, for `measures = [area_under_curve, accuracy]`, try `operations=[predict, predict_mode]`. ",
     "output_type": "error",
     "traceback": [
      "ArgumentError: `prediction_type(LogLoss(tol = 2.220446049250313e-16)) == probabilistic` but `prediction_type(LinearRegressor) == deterministic`.If your model really is making probabilistic predictions, try explicitly specifiying operations. For example, for `measures = [area_under_curve, accuracy]`, try `operations=[predict, predict_mode]`. ",
      "",
      "Stacktrace:",
      "  [1] (::MLJBase.var\"#270#271\"{MLJScikitLearnInterface.LinearRegressor})(m::LogLoss{Float64})",
      "    @ MLJBase C:\\Users\\sebas\\.julia\\packages\\MLJBase\\rMXo2\\src\\resampling.jl:721",
      "  [2] iterate",
      "    @ .\\generator.jl:47 [inlined]",
      "  [3] _collect(c::Vector{MLJBase.Measure}, itr::Base.Generator{Vector{MLJBase.Measure}, MLJBase.var\"#270#271\"{MLJScikitLearnInterface.LinearRegressor}}, #unused#::Base.EltypeUnknown, isz::Base.HasShape{1})",
      "    @ Base .\\array.jl:744",
      "  [4] collect_similar",
      "    @ .\\array.jl:653 [inlined]",
      "  [5] map",
      "    @ .\\abstractarray.jl:2849 [inlined]",
      "  [6] _actual_operations",
      "    @ C:\\Users\\sebas\\.julia\\packages\\MLJBase\\rMXo2\\src\\resampling.jl:695 [inlined]",
      "  [7] evaluate!(mach::Machine{MLJScikitLearnInterface.LinearRegressor, true}; resampling::CV, measures::Vector{MLJBase.Measure}, measure::Vector{MLJBase.Measure}, weights::Nothing, class_weights::Nothing, operations::Nothing, operation::Nothing, acceleration::CPU1{Nothing}, rows::Nothing, repeats::Int64, force::Bool, check_measure::Bool, verbosity::Int64)",
      "    @ MLJBase C:\\Users\\sebas\\.julia\\packages\\MLJBase\\rMXo2\\src\\resampling.jl:928",
      "  [8] evaluate(::MLJScikitLearnInterface.LinearRegressor, ::Matrix{Float64}, ::Vararg{Any}; cache::Bool, kwargs::Base.Pairs{Symbol, Any, Tuple{Symbol, Symbol}, NamedTuple{(:measures, :verbosity), Tuple{Vector{MLJBase.Measure}, Int64}}})",
      "    @ MLJBase C:\\Users\\sebas\\.julia\\packages\\MLJBase\\rMXo2\\src\\resampling.jl:961",
      "  [9] top-level scope",
      "    @ In[6]:19",
      " [10] eval",
      "    @ .\\boot.jl:373 [inlined]",
      " [11] include_string(mapexpr::typeof(REPL.softscope), mod::Module, code::String, filename::String)",
      "    @ Base .\\loading.jl:1196"
     ]
    }
   ],
   "source": [
    "using RDatasets: dataset\n",
    "using MLJ#using ScikitLearn: fit!, predict\n",
    "#using ScikitLearn\n",
    "\n",
    "iris = dataset(\"datasets\", \"iris\");\n",
    "X = Array(iris[:, [:SepalLength, :SepalWidth, :PetalLength, :PetalWidth]]) #subset of original data not a copy\n",
    "y = Array(iris[:, [:Species]])\n",
    "\n",
    "#@sk_import linear_model: LogisticRegression\n",
    "#model = ScikitLearn.Models.LinearRegression()#fit_intercept=true, max_iter = 200)\n",
    "#model = sklearn.linear_regression.LinearRegression()\n",
    "#fit!(model, X, y);\n",
    "\n",
    "\n",
    "Linear = @load LinearRegressor pkg=ScikitLearn verbosity=0\n",
    "LinearModel = Linear()\n",
    "#ScikitLearn.score(modelLR, X, Y)#accuracy =  sum(predict(modelLR, X) .== y) / length(y)#score(modelLR, X, Y)\n",
    "\n",
    "machine(LinearModel, )"
   ]
  },
  {
   "cell_type": "code",
   "execution_count": 2,
   "id": "e54133e0-eb26-4c15-9c66-0185bcc079c5",
   "metadata": {},
   "outputs": [
    {
     "data": {
      "text/plain": [
       "150×1 Matrix{CategoricalArrays.CategoricalValue{String, UInt8}}:\n",
       " \"setosa\"\n",
       " \"setosa\"\n",
       " \"setosa\"\n",
       " \"setosa\"\n",
       " \"setosa\"\n",
       " \"setosa\"\n",
       " \"setosa\"\n",
       " \"setosa\"\n",
       " \"setosa\"\n",
       " \"setosa\"\n",
       " \"setosa\"\n",
       " \"setosa\"\n",
       " \"setosa\"\n",
       " ⋮\n",
       " \"virginica\"\n",
       " \"virginica\"\n",
       " \"virginica\"\n",
       " \"virginica\"\n",
       " \"virginica\"\n",
       " \"virginica\"\n",
       " \"virginica\"\n",
       " \"virginica\"\n",
       " \"virginica\"\n",
       " \"virginica\"\n",
       " \"virginica\"\n",
       " \"virginica\""
      ]
     },
     "execution_count": 2,
     "metadata": {},
     "output_type": "execute_result"
    }
   ],
   "source": [
    "y"
   ]
  },
  {
   "cell_type": "code",
   "execution_count": 3,
   "id": "14241edc-bb9b-4908-8f2c-2e91fbe17225",
   "metadata": {},
   "outputs": [
    {
     "ename": "UndefVarError",
     "evalue": "UndefVarError: ScikitLearn not defined",
     "output_type": "error",
     "traceback": [
      "UndefVarError: ScikitLearn not defined",
      "",
      "Stacktrace:",
      " [1] top-level scope",
      "   @ C:\\Users\\sebas\\AppData\\Local\\Programs\\Julia-1.7.2\\share\\julia\\stdlib\\v1.7\\REPL\\src\\docview.jl:538",
      " [2] eval",
      "   @ .\\boot.jl:373 [inlined]",
      " [3] execute_request(socket::ZMQ.Socket, msg::IJulia.Msg)",
      "   @ IJulia C:\\Users\\sebas\\.julia\\packages\\IJulia\\e8kqU\\src\\execute_request.jl:64",
      " [4] #invokelatest#2",
      "   @ .\\essentials.jl:716 [inlined]",
      " [5] invokelatest",
      "   @ .\\essentials.jl:714 [inlined]",
      " [6] eventloop(socket::ZMQ.Socket)",
      "   @ IJulia C:\\Users\\sebas\\.julia\\packages\\IJulia\\e8kqU\\src\\eventloop.jl:8",
      " [7] (::IJulia.var\"#15#18\")()",
      "   @ IJulia .\\task.jl:423"
     ]
    }
   ],
   "source": [
    "?ScikitLearn.Models.LinearRegression "
   ]
  },
  {
   "cell_type": "code",
   "execution_count": 4,
   "id": "b7acd3c4-fbbf-4dc7-a750-db99670ac183",
   "metadata": {},
   "outputs": [
    {
     "name": "stderr",
     "output_type": "stream",
     "text": [
      "WARNING: both DecisionTree and MLJ export \"fit!\"; uses of it in module Main must be qualified\n"
     ]
    },
    {
     "ename": "LoadError",
     "evalue": "UndefVarError: fit! not defined",
     "output_type": "error",
     "traceback": [
      "UndefVarError: fit! not defined",
      "",
      "Stacktrace:",
      " [1] top-level scope",
      "   @ In[4]:14",
      " [2] eval",
      "   @ .\\boot.jl:373 [inlined]",
      " [3] include_string(mapexpr::typeof(REPL.softscope), mod::Module, code::String, filename::String)",
      "   @ Base .\\loading.jl:1196"
     ]
    }
   ],
   "source": [
    "using DecisionTree, ScikitLearn, Random, Statistics\n",
    "\n",
    "# Create a random dataset\n",
    "Random.seed!(42)\n",
    "X = sort(5 * rand(80))\n",
    "XX = reshape(X, 80, 1)\n",
    "y = sin.(X)\n",
    "y[1:5:end] += 3 * (0.5 .- rand(16))\n",
    "\n",
    "# Fit regression model\n",
    "regr_1 = DecisionTreeRegressor()\n",
    "regr_2 = DecisionTreeRegressor(pruning_purity_threshold=0.05)\n",
    "regr_3 = RandomForestRegressor(n_trees=20)\n",
    "fit!(regr_1, XX, y)\n",
    "fit!(regr_2, XX, y)\n",
    "fit!(regr_3, XX, y)\n",
    "\n",
    "# Predict\n",
    "X_test = 0:0.01:5.0\n",
    "y_1 = predict(regr_1, hcat(X_test))\n",
    "y_2 = predict(regr_2, hcat(X_test))\n",
    "y_3 = predict(regr_3, hcat(X_test))\n",
    "\n"
   ]
  },
  {
   "cell_type": "code",
   "execution_count": 5,
   "id": "44616939-db6b-4451-b796-bfd34b4bad8e",
   "metadata": {},
   "outputs": [
    {
     "data": {
      "text/plain": [
       "80-element Vector{Float64}:\n",
       "  0.3136128140437813\n",
       "  0.13451476677590413\n",
       "  0.21081911492757838\n",
       "  0.2729817371368381\n",
       "  0.29763906367804754\n",
       " -0.3581188859457634\n",
       "  0.4420879063042456\n",
       "  0.45480855941130527\n",
       "  0.4574054730939237\n",
       "  0.6205490495267068\n",
       "  1.8506669477597208\n",
       "  0.7295546377288857\n",
       "  0.7394097464230166\n",
       "  ⋮\n",
       " -0.9999138505444924\n",
       " -0.9845166129887418\n",
       " -1.8360668466554246\n",
       " -0.983699487411204\n",
       " -0.9817390039117884\n",
       " -0.9816851587193967\n",
       " -0.9750741931632269\n",
       " -2.4281869823616975\n",
       " -0.9727073920179807\n",
       " -0.9612813910554965\n",
       " -0.9609640538121832\n",
       " -0.9606640941378621"
      ]
     },
     "execution_count": 5,
     "metadata": {},
     "output_type": "execute_result"
    }
   ],
   "source": [
    "y"
   ]
  },
  {
   "cell_type": "code",
   "execution_count": null,
   "id": "a47d5fbe-49c9-4494-b6b6-183c1a48cb81",
   "metadata": {},
   "outputs": [],
   "source": []
  }
 ],
 "metadata": {
  "kernelspec": {
   "display_name": "Julia 1.7.2",
   "language": "julia",
   "name": "julia-1.7"
  },
  "language_info": {
   "file_extension": ".jl",
   "mimetype": "application/julia",
   "name": "julia",
   "version": "1.7.2"
  }
 },
 "nbformat": 4,
 "nbformat_minor": 5
}
